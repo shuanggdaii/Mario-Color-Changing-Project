{
 "cells": [
  {
   "cell_type": "markdown",
   "id": "90dbb44d",
   "metadata": {},
   "source": [
    "# <span style=\"color:red\">Mario Color Changing Project\n",
    "\n",
    "> ## <span style=\"color:dodgerblue\">Purpose of the project:\n",
    "\n",
    "    Enter the colors to change colors of specific parts of Mario.\n",
    "   \n",
    "-------                              \n",
    "> ## <span style=\"color:dodgerblue\">Helper Function List:\n",
    "\n",
    "    * cap_color_changing(cc2:CapColorTwo)\n",
    "   \n",
    "    * sleeve_color_changing(sc2:SleeveColorTwo)\n",
    "   \n",
    "    * car_color_changing(carc2:CarColorTwo)\n",
    "   \n",
    "    * cloth_color_changing(clc2:ClothColorTwo)\n",
    "   \n",
    "    * wheel_color_changing(whc2:WheelColorTwo)\n",
    "   \n",
    "    * mario_color_changing(cc2:CapColorTwo,sc2:SleeveColorTwo,carc2:CarColorTwo,clc2:ClothColorTwo,whc2:WheelColorTwo)\n",
    "\n",
    "--------\n",
    "> ## <span style=\"color:dodgerblue\">Main Function List:\n",
    "    \n",
    "    * mario_color_changing(MarioColorChanging)\n",
    "    \n",
    "    * mario_color_changing2(MarioColorChanging2) : for users who have never learned computer programming or with language         problem(Chinese,Italian,English)\n",
    "\n",
    "--------\n",
    "> ## <span style=\"color:dodgerblue\">Selection Of Data Type And Reason:\n",
    "\n",
    "    * Enumeration: data type for specific colors for every specific part of Mario\n",
    "    \n",
    "                   * CapColor\n",
    "                   * SleeveColor \n",
    "                   * CarColor \n",
    "                   * ClothColor \n",
    "                   * WheelColor \n",
    "    \n",
    "    * Optional: data type for a default value which is None, if users don't enter the colors it will return a color by        default.\n",
    "    \n",
    "                   * CapColorTwo\n",
    "                   * SleeveColorTwo\n",
    "                   * CarColorTwo\n",
    "                   * ClothColorTwo \n",
    "                   * WheelColorTwo\n",
    "    \n",
    "    * Compound: data type for the set of all colors chosen by users\n",
    "    \n",
    "                   * MarioColorChanging\n",
    "                   * MarioColorChanging2"
   ]
  },
  {
   "cell_type": "code",
   "execution_count": 1,
   "id": "d4bfb055",
   "metadata": {},
   "outputs": [],
   "source": [
    "from cs103 import*"
   ]
  },
  {
   "cell_type": "code",
   "execution_count": 2,
   "id": "79ac6f3e",
   "metadata": {},
   "outputs": [],
   "source": [
    "#draw mario\n",
    "s1 = square(10, \"solid\", \"black\")\n",
    "\n",
    "#cap\n",
    "s2 = square(10, \"solid\", \"red\")\n",
    "\n",
    "#\n",
    "s3 = square(10, \"solid\", \"white\")\n",
    "\n",
    "#face\n",
    "s4 = square(10, \"solid\", \"blanchedalmond\")\n",
    "\n",
    "#sleeve\n",
    "s5 = square(10, \"solid\", \"tomato\")\n",
    "\n",
    "#car\n",
    "s6 = square(10, \"solid\", \"darkorange\")\n",
    "\n",
    "#cloth\n",
    "s7 = square(10, \"solid\", \"lightskyblue\")\n",
    "\n",
    "#wheel\n",
    "s8 = square(10, \"solid\", \"tan\")\n",
    "s9 = square(10, \"solid\", \"peru\")\n",
    "\n",
    "mario = above(beside(s3,s3,s3,s3,s3,s3,s3,s3,s3,s3,s3,s1,s1,s1,s1,s1,s3,s3,s3,s3,s3,s3,s3,s3,s3,s3,s3,s3),\n",
    "              beside(s3,s3,s3,s3,s3,s3,s3,s3,s3,s1,s1,s1,s2,s2,s2,s2,s1,s3,s3,s3,s3,s3,s3,s3,s3,s3,s3,s3),\n",
    "              beside(s3,s3,s3,s3,s3,s3,s3,s1,s1,s2,s2,s2,s2,s2,s2,s2,s1,s3,s3,s3,s3,s3,s3,s3,s3,s3,s3,s3),\n",
    "              beside(s3,s3,s3,s3,s3,s3,s1,s2,s2,s2,s2,s2,s2,s2,s2,s3,s1,s3,s3,s3,s3,s3,s3,s3,s3,s3,s3,s3),\n",
    "              beside(s3,s3,s3,s3,s3,s1,s2,s2,s2,s2,s2,s2,s2,s2,s3,s3,s1,s3,s3,s3,s3,s3,s3,s3,s3,s3,s3,s3),\n",
    "              beside(s3,s3,s3,s3,s1,s2,s2,s2,s2,s2,s2,s1,s1,s1,s1,s1,s1,s1,s3,s3,s3,s3,s3,s3,s3,s3,s3,s3),\n",
    "              beside(s3,s3,s3,s1,s1,s2,s2,s2,s2,s1,s1,s2,s2,s2,s2,s2,s2,s2,s1,s3,s3,s3,s3,s3,s3,s3,s3,s3),\n",
    "              beside(s3,s3,s1,s2,s2,s2,s2,s1,s1,s2,s2,s1,s1,s1,s1,s1,s1,s2,s1,s1,s3,s3,s3,s3,s3,s3,s3,s3),\n",
    "              beside(s3,s3,s1,s2,s2,s2,s1,s4,s4,s1,s1,s1,s4,s3,s3,s4,s1,s1,s3,s3,s3,s3,s3,s3,s3,s3,s3,s3),\n",
    "              beside(s3,s3,s1,s2,s2,s1,s4,s4,s4,s4,s1,s4,s4,s3,s1,s4,s1,s3,s3,s3,s3,s3,s3,s3,s3,s3,s3,s3),\n",
    "              beside(s3,s3,s3,s1,s1,s1,s4,s4,s4,s4,s1,s4,s4,s3,s1,s4,s4,s1,s1,s3,s3,s3,s3,s3,s3,s3,s3,s3),\n",
    "              beside(s3,s3,s3,s3,s1,s1,s1,s4,s4,s4,s1,s4,s4,s1,s1,s4,s4,s4,s4,s1,s3,s3,s3,s3,s3,s3,s3,s3),\n",
    "              beside(s3,s3,s3,s3,s1,s1,s1,s1,s1,s4,s4,s4,s4,s1,s1,s1,s4,s4,s4,s1,s3,s3,s3,s3,s3,s3,s3,s3),\n",
    "              beside(s3,s3,s3,s3,s3,s1,s1,s1,s4,s4,s4,s4,s4,s4,s1,s1,s1,s1,s1,s3,s3,s3,s3,s3,s3,s3,s3,s3),\n",
    "              beside(s3,s3,s3,s3,s3,s3,s3,s1,s1,s1,s4,s4,s4,s4,s4,s1,s1,s1,s3,s3,s3,s3,s3,s3,s3,s3,s3,s3),\n",
    "              beside(s3,s3,s3,s3,s3,s3,s1,s1,s5,s5,s1,s1,s4,s4,s4,s4,s1,s1,s3,s3,s3,s3,s3,s3,s3,s3,s3,s3),\n",
    "              beside(s3,s3,s3,s3,s3,s1,s7,s5,s5,s5,s5,s5,s1,s1,s1,s1,s3,s3,s1,s1,s3,s3,s3,s3,s3,s3,s3,s3),\n",
    "              beside(s3,s3,s3,s3,s1,s1,s7,s5,s5,s5,s5,s5,s5,s5,s5,s9,s3,s3,s3,s1,s1,s3,s3,s3,s3,s3,s3,s3),\n",
    "              beside(s3,s3,s3,s1,s6,s1,s7,s5,s5,s5,s5,s5,s5,s5,s5,s1,s9,s9,s9,s1,s1,s1,s3,s3,s3,s3,s3,s3),\n",
    "              beside(s3,s3,s3,s1,s6,s1,s7,s5,s5,s5,s5,s5,s5,s5,s5,s5,s1,s1,s1,s1,s1,s1,s9,s9,s9,s9,s3,s3),\n",
    "              beside(s3,s3,s3,s1,s6,s1,s7,s7,s1,s1,s5,s5,s5,s5,s1,s1,s1,s7,s7,s7,s1,s6,s6,s1,s1,s1,s3,s3),\n",
    "              beside(s3,s3,s3,s1,s6,s1,s7,s7,s7,s7,s1,s1,s1,s1,s7,s7,s7,s7,s7,s7,s6,s6,s6,s1,s1,s1,s1,s3),\n",
    "              beside(s3,s9,s9,s1,s6,s1,s7,s7,s7,s7,s7,s7,s7,s7,s7,s7,s7,s7,s7,s7,s6,s6,s6,s1,s1,s1,s1,s3),\n",
    "              beside(s3,s1,s1,s1,s1,s1,s7,s7,s7,s7,s7,s7,s7,s7,s7,s7,s7,s7,s7,s7,s6,s6,s6,s1,s1,s1,s1,s3),\n",
    "              beside(s3,s1,s1,s1,s1,s1,s1,s7,s7,s7,s7,s7,s7,s7,s7,s7,s7,s7,s7,s6,s6,s1,s1,s8,s8,s1,s1,s3),\n",
    "              beside(s1,s1,s1,s8,s8,s1,s1,s1,s1,s7,s7,s7,s7,s7,s7,s7,s7,s7,s6,s6,s6,s1,s8,s1,s1,s8,s1,s1),\n",
    "              beside(s1,s1,s8,s1,s1,s8,s1,s1,s3,s1,s1,s7,s7,s7,s7,s1,s1,s1,s6,s6,s1,s1,s1,s8,s8,s1,s1,s1),\n",
    "              beside(s1,s1,s8,s3,s1,s8,s1,s1,s1,s3,s3,s1,s1,s1,s1,s3,s3,s3,s1,s1,s1,s1,s8,s1,s1,s8,s1,s1),\n",
    "              beside(s1,s1,s1,s3,s3,s8,s1,s1,s1,s1,s1,s3,s3,s3,s3,s3,s3,s3,s3,s1,s1,s1,s8,s3,s1,s8,s1,s1),\n",
    "              beside(s3,s1,s1,s8,s8,s1,s1,s1,s1,s1,s1,s1,s1,s1,s1,s1,s1,s1,s1,s1,s3,s1,s1,s8,s8,s1,s1,s3),\n",
    "              beside(s3,s3,s1,s1,s1,s1,s3,s3,s3,s3,s3,s3,s3,s3,s3,s3,s3,s3,s3,s3,s3,s3,s1,s1,s1,s1,s3,s3))"
   ]
  },
  {
   "cell_type": "code",
   "execution_count": 3,
   "id": "efb686ad",
   "metadata": {},
   "outputs": [
    {
     "data": {
      "text/plain": [
       "<cs103.image.image.Above object at 0x0000013809A9A8B0>"
      ]
     },
     "execution_count": 3,
     "metadata": {},
     "output_type": "execute_result"
    },
    {
     "data": {
      "image/png": "[encoded data removed]",
      "text/plain": [
       "<Figure size 210x232.5 with 1 Axes>"
      ]
     },
     "metadata": {
      "needs_background": "light"
     },
     "output_type": "display_data"
    }
   ],
   "source": [
    "mario"
   ]
  },
  {
   "cell_type": "code",
   "execution_count": 4,
   "id": "f575344d",
   "metadata": {},
   "outputs": [],
   "source": [
    "from enum import Enum"
   ]
  },
  {
   "cell_type": "code",
   "execution_count": 5,
   "id": "7ca92893",
   "metadata": {},
   "outputs": [],
   "source": [
    "CapColor = Enum('CapColor',[\"red\",\"forestgreen\"])\n",
    "#interp. colors of Mario's cap\n",
    "#example are redundant for enumeration\n",
    "@typecheck\n",
    "def fn_for_cap_color(cc:CapColor)->...:\n",
    "    #template based on Enum\n",
    "    if (cc == CapColor.red):\n",
    "        return ...\n",
    "    if (cc == CapColor.forestgreen):\n",
    "        return ..."
   ]
  },
  {
   "cell_type": "code",
   "execution_count": 6,
   "id": "e38ef9d3",
   "metadata": {},
   "outputs": [],
   "source": [
    "SleeveColor = Enum('SleeveColor',[\"tomato\",\"coral\",\"limegreen\",\"lime\"])\n",
    "#interp. colors of Mario's sleeve\n",
    "#example are redundant for enumeration\n",
    "@typecheck\n",
    "def fn_for_sleeve_color(sc:SleeveColor)->...:\n",
    "    #template based on Enum\n",
    "    if (sc == SleeveColor.tomato):\n",
    "        return...\n",
    "    if (sc == SleeveColor.coral):\n",
    "        return ...\n",
    "    if (sc == SleeveColor.limegreen):\n",
    "        return ...\n",
    "    if (sc == SleeveColor.lime):\n",
    "        return ..."
   ]
  },
  {
   "cell_type": "code",
   "execution_count": 7,
   "id": "1fcd2fc4",
   "metadata": {},
   "outputs": [],
   "source": [
    "CarColor = Enum('CarColor',[\"darkorange\",\"dodgerblue\",\"orangered\",\"yellow\"])\n",
    "#interp. colors of Mario's car\n",
    "#example are redundant for enumeration\n",
    "@typecheck\n",
    "def fn_for_car_color(carc:CarColor)->...:\n",
    "    #template based on Enum\n",
    "    if (carc == CarColor.darkorange):\n",
    "        return ...\n",
    "    if (carc == CarColor.dodgerblue):\n",
    "        return ...\n",
    "    if (cars == CarColor.orangered):\n",
    "        return ...\n",
    "    if (cars == CarColor.yellow):\n",
    "        return ..."
   ]
  },
  {
   "cell_type": "code",
   "execution_count": 8,
   "id": "46841fe8",
   "metadata": {},
   "outputs": [],
   "source": [
    "ClothColor = Enum('ClothColor',[\"lightskyblue\",\"mediumblue\",\"yellow\"])\n",
    "#interp. colors of Mario's cloth\n",
    "#example are redundant for enumeration\n",
    "@typecheck\n",
    "def fn_for_cloth_color(clc:ClothColor)->...:\n",
    "    #template based on Enum\n",
    "    if (clc == ClothColor.lightskyblue):\n",
    "        return ...\n",
    "    if (clc == ClothColor.mediumblue):\n",
    "        return ...\n",
    "    if (clc == ClothColor.yellow):\n",
    "        return ..."
   ]
  },
  {
   "cell_type": "code",
   "execution_count": 9,
   "id": "6e32a067",
   "metadata": {},
   "outputs": [],
   "source": [
    "WheelColor = Enum('WheelColor',[\"tan\",\"saddlebrown\",\"darkgray\"])\n",
    "#interp. colos of wheels\n",
    "#example are redundant for enumeration\n",
    "@typecheck\n",
    "def fn_for_wheel_color(whc:WheelColor)->...:\n",
    "    #template based on Enum\n",
    "    if (whc == WheelColor.tan):\n",
    "        return ...\n",
    "    if (whc == WheelColor.saddlebrown):\n",
    "        return ...\n",
    "    if (whc == WheelColor.darkgray):\n",
    "        return ..."
   ]
  },
  {
   "cell_type": "code",
   "execution_count": 10,
   "id": "396810a7",
   "metadata": {},
   "outputs": [],
   "source": [
    "from typing import Optional"
   ]
  },
  {
   "cell_type": "code",
   "execution_count": 11,
   "id": "df7b75b0",
   "metadata": {},
   "outputs": [],
   "source": [
    "CapColorTwo = Optional[CapColor]\n",
    "#interp. colors of Mario's cap\n",
    "#or None if the color isn't entered\n",
    "\n",
    "cc_1 = None\n",
    "cc_2 = CapColor.red\n",
    "cc_3 = CapColor.forestgreen\n",
    "\n",
    "@typecheck\n",
    "def fn_for_cap_color_two(cc2:CapColorTwo)->...:\n",
    "    #template based on Optional\n",
    "    if cc2 is None:\n",
    "        return ...\n",
    "    else:\n",
    "        return ...,(cc2)"
   ]
  },
  {
   "cell_type": "code",
   "execution_count": 12,
   "id": "cef46fd6",
   "metadata": {},
   "outputs": [],
   "source": [
    "SleeveColorTwo = Optional[SleeveColor]\n",
    "#interp. colors of Mario's sleeve\n",
    "#or None if the color isn't entered\n",
    "\n",
    "sc_1 = None\n",
    "sc_2 = SleeveColor.tomato\n",
    "sc_3 = SleeveColor.coral\n",
    "sc_4 = SleeveColor.limegreen\n",
    "sc_5 = SleeveColor.lime\n",
    "\n",
    "@typecheck\n",
    "def fn_for_sleeve_color_two(sc2:SleeveColorTwo)->...:\n",
    "    #template based on Optional\n",
    "    if sc2 is None:\n",
    "        return ...\n",
    "    else:\n",
    "        return ...,(sc2)"
   ]
  },
  {
   "cell_type": "code",
   "execution_count": 13,
   "id": "17d6903b",
   "metadata": {},
   "outputs": [],
   "source": [
    "CarColorTwo = Optional[CarColor]\n",
    "#interp. colors of Mario's Car\n",
    "#or None if the color isn't entered\n",
    "\n",
    "carc_1 = None\n",
    "carc_2 = CarColor.darkorange\n",
    "carc_3 = CarColor.dodgerblue\n",
    "carc_4 = CarColor.orangered\n",
    "carc_5 = CarColor.yellow\n",
    "\n",
    "@typecheck\n",
    "def fn_for_car_color_two(carc2:CarColorTwo)->...:\n",
    "    #template based on Optional\n",
    "    if carc2 is None:\n",
    "        return ...\n",
    "    else:\n",
    "        return ...,(carc2)"
   ]
  },
  {
   "cell_type": "code",
   "execution_count": 14,
   "id": "6c22cb02",
   "metadata": {},
   "outputs": [],
   "source": [
    "ClothColorTwo = Optional[ClothColor]\n",
    "#interp. colors of Mario's cloth\n",
    "#or None if the color isn't entered\n",
    "\n",
    "clc_1 = None\n",
    "clc_2 = ClothColor.lightskyblue\n",
    "clc_3 = ClothColor.mediumblue\n",
    "clc_4 = ClothColor.yellow\n",
    "\n",
    "@typecheck\n",
    "def fn_for_cloth_color_two(clc2:ClothColorTwo)->...:\n",
    "    if clc2 is None:\n",
    "        return ...\n",
    "    else:\n",
    "        return ...,(clc2)"
   ]
  },
  {
   "cell_type": "code",
   "execution_count": 15,
   "id": "117d540c",
   "metadata": {},
   "outputs": [],
   "source": [
    "WheelColorTwo = Optional[WheelColor]\n",
    "#interp. colos of wheels\n",
    "#or None if the color isn't entered\n",
    "\n",
    "whc_1 = None\n",
    "whc_2 = WheelColor.tan\n",
    "whc_3 = WheelColor.saddlebrown\n",
    "whc_4 = WheelColor.darkgray\n",
    "\n",
    "@typecheck\n",
    "def fn_for_wheel_color_two(whc2:WheelColorTwo)->...:\n",
    "    if whc2 is None:\n",
    "        return ...\n",
    "    else:\n",
    "        return ..."
   ]
  },
  {
   "cell_type": "code",
   "execution_count": 16,
   "id": "927de934",
   "metadata": {},
   "outputs": [],
   "source": [
    "@typecheck\n",
    "def cap_color_changing(cc2:CapColorTwo)->str:\n",
    "    \"\"\"\n",
    "    enter a color of cap from CapColor to change the color of Mario's cap,\n",
    "    if enter None return CapColor.red by default\n",
    "    \"\"\"\n",
    "    #return \"\"\n",
    "    #template from CapColorTwo\n",
    "    if cc2 is None:\n",
    "        return \"red\"\n",
    "    elif cc2 == CapColor.red:\n",
    "        return \"red\"\n",
    "    elif cc2 == CapColor.forestgreen:\n",
    "        return \"forestgreen\""
   ]
  },
  {
   "cell_type": "code",
   "execution_count": 17,
   "id": "2c639e5b",
   "metadata": {},
   "outputs": [],
   "source": [
    "@typecheck\n",
    "def sleeve_color_changing(sc2:SleeveColorTwo)->str:\n",
    "    \"\"\"\n",
    "    enter a color of cap from SleeveColor to change the color of Mario's sleeve,\n",
    "    if enter None return SleeveColor.tomato by default\n",
    "    \"\"\"\n",
    "    #return \"\"\n",
    "    #template from SleeveColorTwo\n",
    "    if sc2 is None:\n",
    "        return \"tomato\"\n",
    "    elif sc2 == SleeveColor.tomato:\n",
    "        return \"tomato\"\n",
    "    elif sc2 == SleeveColor.coral:\n",
    "        return \"coral\"\n",
    "    elif sc2 == SleeveColor.limegreen:\n",
    "        return \"limegreen\"\n",
    "    elif sc2 == SleeveColor.lime:\n",
    "        return \"lime\""
   ]
  },
  {
   "cell_type": "code",
   "execution_count": 18,
   "id": "95f021b9",
   "metadata": {},
   "outputs": [],
   "source": [
    "@typecheck\n",
    "def car_color_changing(carc2:CarColorTwo)->str:\n",
    "    \"\"\"\n",
    "    enter a color of cap from CarColor to change the color of Mario's cap,\n",
    "    if enter None return CarColor.darkorange by default\n",
    "    \"\"\"\n",
    "    #return \"\"\n",
    "    #template from CarColorTwo\n",
    "    if carc2 is None:\n",
    "        return \"darkorange\"\n",
    "    elif carc2 == CarColor.darkorange:\n",
    "        return \"darkorange\"\n",
    "    elif carc2 == CarColor.dodgerblue:\n",
    "        return \"dodgerblue\"\n",
    "    elif carc2 == CarColor.orangered:\n",
    "        return \"orangered\"\n",
    "    elif carc2 == CarColor.yellow:\n",
    "        return \"yellow\""
   ]
  },
  {
   "cell_type": "code",
   "execution_count": 19,
   "id": "980a0c66",
   "metadata": {},
   "outputs": [],
   "source": [
    "@typecheck\n",
    "def cloth_color_changing(clc2:ClothColorTwo)->str:\n",
    "    \"\"\"\n",
    "    enter a color of cap from ClothColor to change the color of Mario's cap,\n",
    "    if enter None return ClothColor.lightskyblue by default\n",
    "    \"\"\"\n",
    "    #return \"\"\n",
    "    #template from ClothColorTwo\n",
    "    if clc2 is None:\n",
    "        return \"lightskyblue\"\n",
    "    elif clc2 == ClothColor.lightskyblue:\n",
    "        return \"lightskyblue\"\n",
    "    elif clc2 == ClothColor.mediumblue:\n",
    "        return \"mediumblue\"\n",
    "    elif clc2 == ClothColor.yellow:\n",
    "        return \"yellow\""
   ]
  },
  {
   "cell_type": "code",
   "execution_count": 20,
   "id": "b6fd085b",
   "metadata": {},
   "outputs": [],
   "source": [
    "@typecheck\n",
    "def wheel_color_changing(whc2:WheelColorTwo)->str:\n",
    "    \"\"\"\n",
    "    enter a color of cap from WheelColor to change the color of Mario's cap,\n",
    "    if enter None return WheelColor.tan by default\n",
    "    helper function to。。\n",
    "    \"\"\"\n",
    "    #return \"\"\n",
    "    #template from WheelColorTwo\n",
    "    if whc2 is None:\n",
    "        return \"tan\"\n",
    "    elif whc2 == WheelColor.tan:\n",
    "        return \"tan\"\n",
    "    elif whc2 == WheelColor.saddlebrown:\n",
    "        return \"saddlebrown\"\n",
    "    elif ehc2 == WheelColor.darkgray:\n",
    "        return \"darkgray\""
   ]
  },
  {
   "cell_type": "code",
   "execution_count": 21,
   "id": "f390878e",
   "metadata": {},
   "outputs": [],
   "source": [
    "from typing import NamedTuple"
   ]
  },
  {
   "cell_type": "code",
   "execution_count": 22,
   "id": "983833ec",
   "metadata": {},
   "outputs": [],
   "source": [
    "MarioColorChanging = NamedTuple(\"MarioColorChanging\",[(\"cap\",CapColorTwo),\n",
    "                                                      (\"sleeve\",SleeveColorTwo),\n",
    "                                                      (\"car\",CarColorTwo),\n",
    "                                                      (\"cloth\",ClothColorTwo),\n",
    "                                                      (\"wheel\",WheelColorTwo)])\n",
    "#interp. color of cap, sleeve, car, cloth and wheel of mario\n",
    "\n",
    "m1 = MarioColorChanging(None,None,None,None,None)\n",
    "m2 = MarioColorChanging(CapColor.forestgreen,SleeveColor.limegreen,CarColor.dodgerblue,ClothColor.yellow,WheelColor.saddlebrown)\n",
    "\n",
    "@typecheck\n",
    "#template based on compound(5 fields)\n",
    "def fn_for_mario_color_changing(mcc:MarioColorChanging)->...:\n",
    "    return ...,(mcc.cap,\n",
    "                mcc.sleeve,\n",
    "                mcc.car,\n",
    "                mcc.cloth,\n",
    "                mcc.wheel)"
   ]
  },
  {
   "cell_type": "code",
   "execution_count": 23,
   "id": "81afaf07",
   "metadata": {},
   "outputs": [],
   "source": [
    "@typecheck\n",
    "def mario_color_changing(mcc:MarioColorChanging)->Image:\n",
    "    \"\"\"\n",
    "    enter colors to change the color of cap, sleeve, car, cloth and wheel.\n",
    "    \"\"\"\n",
    "    #return square(10, \"solid\", \"black\")\n",
    "    #return ...(mcc)\n",
    "    \n",
    "    cap_color = cap_color_changing(mcc.cap)\n",
    "    sleeve_color = sleeve_color_changing(mcc.sleeve)\n",
    "    car_color = car_color_changing(mcc.car)\n",
    "    cloth_color = cloth_color_changing(mcc.cloth)\n",
    "    wheel_color = wheel_color_changing(mcc.wheel)\n",
    "    \n",
    "    s1 = square(10, \"solid\", \"black\")\n",
    "\n",
    "    #cap\n",
    "    s2 = square(10, \"solid\", cap_color)\n",
    "\n",
    "    #\n",
    "    s3 = square(10, \"solid\", \"white\")\n",
    "\n",
    "    #face\n",
    "    s4 = square(10, \"solid\", \"blanchedalmond\")\n",
    "\n",
    "    #sleeve\n",
    "    s5 = square(10, \"solid\", sleeve_color)\n",
    "\n",
    "    #car\n",
    "    s6 = square(10, \"solid\", car_color)\n",
    "\n",
    "    #cloth\n",
    "    s7 = square(10, \"solid\", cloth_color)\n",
    "\n",
    "    #wheel\n",
    "    s8 = square(10, \"solid\", wheel_color)\n",
    "    s9 = square(10, \"solid\", \"peru\")\n",
    "\n",
    "    mario = above(beside(s3,s3,s3,s3,s3,s3,s3,s3,s3,s3,s3,s1,s1,s1,s1,s1,s3,s3,s3,s3,s3,s3,s3,s3,s3,s3,s3,s3),\n",
    "                  beside(s3,s3,s3,s3,s3,s3,s3,s3,s3,s1,s1,s1,s2,s2,s2,s2,s1,s3,s3,s3,s3,s3,s3,s3,s3,s3,s3,s3),\n",
    "                  beside(s3,s3,s3,s3,s3,s3,s3,s1,s1,s2,s2,s2,s2,s2,s2,s2,s1,s3,s3,s3,s3,s3,s3,s3,s3,s3,s3,s3),\n",
    "                  beside(s3,s3,s3,s3,s3,s3,s1,s2,s2,s2,s2,s2,s2,s2,s2,s3,s1,s3,s3,s3,s3,s3,s3,s3,s3,s3,s3,s3),\n",
    "                  beside(s3,s3,s3,s3,s3,s1,s2,s2,s2,s2,s2,s2,s2,s2,s3,s3,s1,s3,s3,s3,s3,s3,s3,s3,s3,s3,s3,s3),\n",
    "                  beside(s3,s3,s3,s3,s1,s2,s2,s2,s2,s2,s2,s1,s1,s1,s1,s1,s1,s1,s3,s3,s3,s3,s3,s3,s3,s3,s3,s3),\n",
    "                  beside(s3,s3,s3,s1,s1,s2,s2,s2,s2,s1,s1,s2,s2,s2,s2,s2,s2,s2,s1,s3,s3,s3,s3,s3,s3,s3,s3,s3),\n",
    "                  beside(s3,s3,s1,s2,s2,s2,s2,s1,s1,s2,s2,s1,s1,s1,s1,s1,s1,s2,s1,s1,s3,s3,s3,s3,s3,s3,s3,s3),\n",
    "                  beside(s3,s3,s1,s2,s2,s2,s1,s4,s4,s1,s1,s1,s4,s3,s3,s4,s1,s1,s3,s3,s3,s3,s3,s3,s3,s3,s3,s3),\n",
    "                  beside(s3,s3,s1,s2,s2,s1,s4,s4,s4,s4,s1,s4,s4,s3,s1,s4,s1,s3,s3,s3,s3,s3,s3,s3,s3,s3,s3,s3),\n",
    "                  beside(s3,s3,s3,s1,s1,s1,s4,s4,s4,s4,s1,s4,s4,s3,s1,s4,s4,s1,s1,s3,s3,s3,s3,s3,s3,s3,s3,s3),\n",
    "                  beside(s3,s3,s3,s3,s1,s1,s1,s4,s4,s4,s1,s4,s4,s1,s1,s4,s4,s4,s4,s1,s3,s3,s3,s3,s3,s3,s3,s3),\n",
    "                  beside(s3,s3,s3,s3,s1,s1,s1,s1,s1,s4,s4,s4,s4,s1,s1,s1,s4,s4,s4,s1,s3,s3,s3,s3,s3,s3,s3,s3),\n",
    "                  beside(s3,s3,s3,s3,s3,s1,s1,s1,s4,s4,s4,s4,s4,s4,s1,s1,s1,s1,s1,s3,s3,s3,s3,s3,s3,s3,s3,s3),\n",
    "                  beside(s3,s3,s3,s3,s3,s3,s3,s1,s1,s1,s4,s4,s4,s4,s4,s1,s1,s1,s3,s3,s3,s3,s3,s3,s3,s3,s3,s3),\n",
    "                  beside(s3,s3,s3,s3,s3,s3,s1,s1,s5,s5,s1,s1,s4,s4,s4,s4,s1,s1,s3,s3,s3,s3,s3,s3,s3,s3,s3,s3),\n",
    "                  beside(s3,s3,s3,s3,s3,s1,s7,s5,s5,s5,s5,s5,s1,s1,s1,s1,s3,s3,s1,s1,s3,s3,s3,s3,s3,s3,s3,s3),\n",
    "                  beside(s3,s3,s3,s3,s1,s1,s7,s5,s5,s5,s5,s5,s5,s5,s5,s9,s3,s3,s3,s1,s1,s3,s3,s3,s3,s3,s3,s3),\n",
    "                  beside(s3,s3,s3,s1,s6,s1,s7,s5,s5,s5,s5,s5,s5,s5,s5,s1,s9,s9,s9,s1,s1,s1,s3,s3,s3,s3,s3,s3),\n",
    "                  beside(s3,s3,s3,s1,s6,s1,s7,s5,s5,s5,s5,s5,s5,s5,s5,s5,s1,s1,s1,s1,s1,s1,s9,s9,s9,s9,s3,s3),\n",
    "                  beside(s3,s3,s3,s1,s6,s1,s7,s7,s1,s1,s5,s5,s5,s5,s1,s1,s1,s7,s7,s7,s1,s6,s6,s1,s1,s1,s3,s3),\n",
    "                  beside(s3,s3,s3,s1,s6,s1,s7,s7,s7,s7,s1,s1,s1,s1,s7,s7,s7,s7,s7,s7,s6,s6,s6,s1,s1,s1,s1,s3),\n",
    "                  beside(s3,s9,s9,s1,s6,s1,s7,s7,s7,s7,s7,s7,s7,s7,s7,s7,s7,s7,s7,s7,s6,s6,s6,s1,s1,s1,s1,s3),\n",
    "                  beside(s3,s1,s1,s1,s1,s1,s7,s7,s7,s7,s7,s7,s7,s7,s7,s7,s7,s7,s7,s7,s6,s6,s6,s1,s1,s1,s1,s3),\n",
    "                  beside(s3,s1,s1,s1,s1,s1,s1,s7,s7,s7,s7,s7,s7,s7,s7,s7,s7,s7,s7,s6,s6,s1,s1,s8,s8,s1,s1,s3),\n",
    "                  beside(s1,s1,s1,s8,s8,s1,s1,s1,s1,s7,s7,s7,s7,s7,s7,s7,s7,s7,s6,s6,s6,s1,s8,s1,s1,s8,s1,s1),\n",
    "                  beside(s1,s1,s8,s1,s1,s8,s1,s1,s3,s1,s1,s7,s7,s7,s7,s1,s1,s1,s6,s6,s1,s1,s1,s8,s8,s1,s1,s1),\n",
    "                  beside(s1,s1,s8,s3,s1,s8,s1,s1,s1,s3,s3,s1,s1,s1,s1,s3,s3,s3,s1,s1,s1,s1,s8,s1,s1,s8,s1,s1),\n",
    "                  beside(s1,s1,s1,s3,s3,s8,s1,s1,s1,s1,s1,s3,s3,s3,s3,s3,s3,s3,s3,s1,s1,s1,s8,s3,s1,s8,s1,s1),\n",
    "                  beside(s3,s1,s1,s8,s8,s1,s1,s1,s1,s1,s1,s1,s1,s1,s1,s1,s1,s1,s1,s1,s3,s1,s1,s8,s8,s1,s1,s3),\n",
    "                  beside(s3,s3,s1,s1,s1,s1,s3,s3,s3,s3,s3,s3,s3,s3,s3,s3,s3,s3,s3,s3,s3,s3,s1,s1,s1,s1,s3,s3))\n",
    "    return mario"
   ]
  },
  {
   "cell_type": "code",
   "execution_count": 24,
   "id": "a91cac5a",
   "metadata": {},
   "outputs": [
    {
     "data": {
      "text/plain": [
       "<cs103.image.image.Above object at 0x000001380AB32E80>"
      ]
     },
     "execution_count": 24,
     "metadata": {},
     "output_type": "execute_result"
    },
    {
     "data": {
      "image/png": "[encoded data removed]",
      "text/plain": [
       "<Figure size 210x232.5 with 1 Axes>"
      ]
     },
     "metadata": {
      "needs_background": "light"
     },
     "output_type": "display_data"
    }
   ],
   "source": [
    "mario_color_changing(m1)"
   ]
  },
  {
   "cell_type": "code",
   "execution_count": 25,
   "id": "c3386234",
   "metadata": {},
   "outputs": [
    {
     "data": {
      "text/plain": [
       "<cs103.image.image.Above object at 0x000001380A6D9D00>"
      ]
     },
     "execution_count": 25,
     "metadata": {},
     "output_type": "execute_result"
    },
    {
     "data": {
      "image/png": "[encoded data removed]",
      "text/plain": [
       "<Figure size 210x232.5 with 1 Axes>"
      ]
     },
     "metadata": {
      "needs_background": "light"
     },
     "output_type": "display_data"
    }
   ],
   "source": [
    "mario_color_changing(m2)"
   ]
  },
  {
   "cell_type": "code",
   "execution_count": 26,
   "id": "1adcf69c",
   "metadata": {},
   "outputs": [
    {
     "name": "stdout",
     "output_type": "stream",
     "text": [
      "\u001b[92m7 of 7 tests passed\u001b[0m\n"
     ]
    }
   ],
   "source": [
    "@typecheck\n",
    "def language_changing_cap_color(s:str)->CapColorTwo:\n",
    "    \"\"\"\n",
    "    enter a color of different language(Chinese,English,Italian), change it into CapColor\n",
    "    \"\"\"\n",
    "    #return CapColor.red\n",
    "    #return ...(s)\n",
    "    if s == \"红\":\n",
    "        return CapColor.red\n",
    "    elif s == \"red\":\n",
    "        return CapColor.red\n",
    "    elif s == \"rosso\":\n",
    "        return CapColor.red\n",
    "    elif s == \"绿\":\n",
    "        return CapColor.forestgreen\n",
    "    elif s == \"green\":\n",
    "        return CapColor.forestgreen\n",
    "    elif s == \"verde\":\n",
    "        return CapColor.forestgreen\n",
    "    elif s == \"不选择颜色\":\n",
    "        return None\n",
    "    elif s == \"no color selection\":\n",
    "        return None\n",
    "    elif s == \"nessuna selezione di colori\":\n",
    "        return None\n",
    "    \n",
    "\n",
    "start_testing()\n",
    "expect(language_changing_cap_color(\"红\"),CapColor.red)\n",
    "expect(language_changing_cap_color(\"red\"),CapColor.red)\n",
    "expect(language_changing_cap_color(\"rosso\"),CapColor.red)\n",
    "expect(language_changing_cap_color(\"绿\"),CapColor.forestgreen)\n",
    "expect(language_changing_cap_color(\"green\"),CapColor.forestgreen)\n",
    "expect(language_changing_cap_color(\"verde\"),CapColor.forestgreen)\n",
    "expect(language_changing_cap_color(\"不选择颜色\"),None)\n",
    "\n",
    "summary()"
   ]
  },
  {
   "cell_type": "code",
   "execution_count": 27,
   "id": "381b697e",
   "metadata": {},
   "outputs": [
    {
     "name": "stdout",
     "output_type": "stream",
     "text": [
      "\u001b[92m12 of 12 tests passed\u001b[0m\n"
     ]
    }
   ],
   "source": [
    "@typecheck\n",
    "def language_changing_sleeve_color(s:str)->SleeveColorTwo:\n",
    "    \"\"\"\n",
    "    enter a color of different language(Chinese,English,Italian), change it into SleeveColor\n",
    "    \"\"\"\n",
    "    #return SleeveColor.tomato\n",
    "    #return ...(s)\n",
    "    if s == \"番茄红\":\n",
    "        return SleeveColor.tomato\n",
    "    elif s == \"tomato\":\n",
    "        return SleeveColor.tomato\n",
    "    elif s == \"rosso pomodoro\":\n",
    "        return SleeveColor.tomato\n",
    "    elif s == \"珊瑚色\":\n",
    "        return SleeveColor.coral\n",
    "    elif s == \"coral\":\n",
    "        return SleeveColor.coral\n",
    "    elif s == \"corallo\":\n",
    "        return SleeveColor.coral\n",
    "    elif s == \"酸橙绿\":\n",
    "        return SleeveColor.limegreen\n",
    "    elif s == \"lime green\":\n",
    "        return SleeveColor.limegreen\n",
    "    elif s == \"verde lime\":\n",
    "        return SleeveColor.limegreen\n",
    "    elif s == \"酸橙\":\n",
    "        return SleeveColor.lime\n",
    "    elif s == \"lime\":\n",
    "        return SleeveColor.lime\n",
    "    elif s == \"不选择颜色\":\n",
    "        return None\n",
    "    elif s == \"no color selection\":\n",
    "        return None\n",
    "    elif s == \"nessuna selezione di colori\":\n",
    "        return None\n",
    "    \n",
    "start_testing()\n",
    "expect(language_changing_sleeve_color(\"番茄红\"),SleeveColor.tomato)\n",
    "expect(language_changing_sleeve_color(\"tomato\"),SleeveColor.tomato)\n",
    "expect(language_changing_sleeve_color(\"rosso pomodoro\"),SleeveColor.tomato)\n",
    "expect(language_changing_sleeve_color(\"珊瑚色\"),SleeveColor.coral)\n",
    "expect(language_changing_sleeve_color(\"coral\"),SleeveColor.coral)\n",
    "expect(language_changing_sleeve_color(\"corallo\"),SleeveColor.coral)\n",
    "expect(language_changing_sleeve_color(\"酸橙绿\"),SleeveColor.limegreen)\n",
    "expect(language_changing_sleeve_color(\"lime green\"),SleeveColor.limegreen)\n",
    "expect(language_changing_sleeve_color(\"verde lime\"),SleeveColor.limegreen)\n",
    "expect(language_changing_sleeve_color(\"酸橙\"),SleeveColor.lime)\n",
    "expect(language_changing_sleeve_color(\"lime\"),SleeveColor.lime)\n",
    "expect(language_changing_sleeve_color(\"no color selection\"),None)\n",
    "\n",
    "summary()"
   ]
  },
  {
   "cell_type": "code",
   "execution_count": 28,
   "id": "46b6f971",
   "metadata": {},
   "outputs": [
    {
     "name": "stdout",
     "output_type": "stream",
     "text": [
      "\u001b[92m7 of 7 tests passed\u001b[0m\n"
     ]
    }
   ],
   "source": [
    "@typecheck\n",
    "def language_changing_car_color(s:str)->CarColorTwo:\n",
    "    \"\"\"\n",
    "    enter a color of different language(Chinese,English,Italian), change it into CarColor\n",
    "    \"\"\"\n",
    "    #return CarColor.darkorange\n",
    "    #return ...(s)\n",
    "    if s == \"深橘\":\n",
    "        return CarColor.darkorange\n",
    "    elif s == \"dark orange\":\n",
    "        return CarColor.darkorange\n",
    "    elif s == \"arancione scuro\":\n",
    "        return CarColor.darkorange\n",
    "    elif s == \"宝蓝\":\n",
    "        return CarColor.dodgerblue\n",
    "    elif s == \"dodger blue\":\n",
    "        return CarColor.dodgerblue\n",
    "    elif s == \"blu dodger\":\n",
    "        return CarColor.dodgerblue\n",
    "    elif s == \"橙红\":\n",
    "        return CarColor.orangered\n",
    "    elif s == \"orange red\":\n",
    "        return CarColor.orangered\n",
    "    elif s == \"rosso arancio\":\n",
    "        return CarColor.orangered\n",
    "    elif s == \"黄\":\n",
    "        return CarColor.yellow\n",
    "    elif s == \"yellow\":\n",
    "        return CarColor.yellow\n",
    "    elif s == \"giallo\":\n",
    "        return CarColor.yellow\n",
    "    elif s == \"不选择颜色\":\n",
    "        return None\n",
    "    elif s == \"no color selection\":\n",
    "        return None\n",
    "    elif s == \"nessuna selezione di colori\":\n",
    "        return None\n",
    "    \n",
    "\n",
    "start_testing()\n",
    "expect(language_changing_car_color(\"深橘\"),CarColor.darkorange)\n",
    "expect(language_changing_car_color(\"dark orange\"),CarColor.darkorange)\n",
    "expect(language_changing_car_color(\"arancione scuro\"),CarColor.darkorange)\n",
    "expect(language_changing_car_color(\"宝蓝\"),CarColor.dodgerblue)\n",
    "expect(language_changing_car_color(\"orange red\"),CarColor.orangered)\n",
    "expect(language_changing_car_color(\"giallo\"),CarColor.yellow)\n",
    "expect(language_changing_car_color(\"nessuna selezione di colori\"),None)\n",
    "\n",
    "summary()"
   ]
  },
  {
   "cell_type": "code",
   "execution_count": 29,
   "id": "656b3896",
   "metadata": {},
   "outputs": [
    {
     "name": "stdout",
     "output_type": "stream",
     "text": [
      "\u001b[92m4 of 4 tests passed\u001b[0m\n"
     ]
    }
   ],
   "source": [
    "@typecheck\n",
    "def language_changing_cloth_color(s:str)->ClothColorTwo:\n",
    "    \"\"\"\n",
    "    enter a color of different language(Chinese,English,Italian), change it into ClothColor\n",
    "    \"\"\"\n",
    "    #return ClothColor.yellow\n",
    "    #return ...(s)\n",
    "    if s == \"浅天蓝\":\n",
    "        return ClothColor.lightskyblue\n",
    "    elif s == \"light sky blue\":\n",
    "        return ClothColor.lightskyblue\n",
    "    elif s == \"celeste chiaro\":\n",
    "        return ClothColor.lightskyblue\n",
    "    elif s == \"中蓝\":\n",
    "        return ClothColor.mediumblue\n",
    "    elif s == \"medium blue\":\n",
    "        return ClothColor.mediumblue\n",
    "    elif s == \"blu medio\":\n",
    "        return ClothColor.mediumblue\n",
    "    elif s == \"黄\":\n",
    "        return ClothColor.yellow\n",
    "    elif s == \"yellow\":\n",
    "        return ClothColor.yellow\n",
    "    elif s == \"giallo\":\n",
    "        return ClothColor.yellow\n",
    "    elif s == \"不选择颜色\":\n",
    "        return None\n",
    "    elif s == \"no color selection\":\n",
    "        return None\n",
    "    elif s == \"nessuna selezione di colori\":\n",
    "        return None\n",
    "    \n",
    "start_testing()\n",
    "expect(language_changing_cloth_color(\"浅天蓝\"),ClothColor.lightskyblue)\n",
    "expect(language_changing_cloth_color(\"medium blue\"),ClothColor.mediumblue)\n",
    "expect(language_changing_cloth_color(\"giallo\"),ClothColor.yellow)\n",
    "expect(language_changing_cloth_color(\"不选择颜色\"),None)\n",
    "\n",
    "summary()"
   ]
  },
  {
   "cell_type": "code",
   "execution_count": 30,
   "id": "bd79a982",
   "metadata": {},
   "outputs": [
    {
     "name": "stdout",
     "output_type": "stream",
     "text": [
      "\u001b[92m4 of 4 tests passed\u001b[0m\n"
     ]
    }
   ],
   "source": [
    "@typecheck\n",
    "def language_changing_wheel_color(s:str)->WheelColorTwo:\n",
    "    \"\"\"\n",
    "    enter a color of different language(Chinese,English,Italian), change it into WheelColor\n",
    "    \"\"\"\n",
    "    #return WheelColor.tan\n",
    "    #return ...(s)\n",
    "    if s == \"棕褐\":\n",
    "        return WheelColor.tan\n",
    "    elif s == \"tan\":\n",
    "        return WheelColor.tan\n",
    "    elif s == \"marrone chiaro\":\n",
    "        return WheelColor.tan\n",
    "    elif s == \"沙褐\":\n",
    "        return WheelColor.saddlebrown\n",
    "    elif s == \"saddle brown\":\n",
    "        return WheelColor.saddlebrown\n",
    "    elif s == \"marrone\":\n",
    "        return WheelColor.saddlebrown\n",
    "    elif s == \"深灰\":\n",
    "        return WheelColor.darkgray\n",
    "    elif s == \"dark gray\":\n",
    "        return WheelColor.darkgray\n",
    "    elif s == \"grigio scuro\":\n",
    "        return WheelColor.darkgray\n",
    "    elif s == \"不选择颜色\":\n",
    "        return None\n",
    "    elif s == \"no color selection\":\n",
    "        return None\n",
    "    elif s == \"nessuna selezione di colori\":\n",
    "        return None\n",
    "\n",
    "start_testing()\n",
    "expect(language_changing_wheel_color(\"棕褐\"),WheelColor.tan)\n",
    "expect(language_changing_wheel_color(\"saddle brown\"),WheelColor.saddlebrown)\n",
    "expect(language_changing_wheel_color(\"grigio scuro\"),WheelColor.darkgray)\n",
    "expect(language_changing_wheel_color(\"no color selection\"),None)\n",
    "\n",
    "summary()"
   ]
  },
  {
   "cell_type": "code",
   "execution_count": 31,
   "id": "402e67d0",
   "metadata": {},
   "outputs": [],
   "source": [
    "MarioColorChanging2 = NamedTuple(\"MarioColorChanging2\",[(\"cap\",str),\n",
    "                                                        (\"sleeve\",str),\n",
    "                                                        (\"car\",str),\n",
    "                                                        (\"cloth\",str),\n",
    "                                                        (\"wheel\",str)])\n",
    "#interp. color of cap, sleeve, car, cloth and wheel of mario\n",
    "\n",
    "m21 = MarioColorChanging2(\"不选择颜色\",\"不选择颜色\",\"不选择颜色\",\"不选择颜色\",\"不选择颜色\")\n",
    "m23 = MarioColorChanging2(\"verde\",\"verde lime\",\"blu dodger\",\"giallo\",\"grigio scuro\")\n",
    "m22 = MarioColorChanging2(\"green\",\"lime green\",\"dodger blue\",\"yellow\",\"dark grey\")\n",
    "\n",
    "@typecheck\n",
    "#template based on compound(5 fields)\n",
    "def fn_for_mario_color_changing(mcc2:MarioColorChanging2)->...:\n",
    "    return ...,(mcc2.cap,\n",
    "                mcc2.sleeve,\n",
    "                mcc2.car,\n",
    "                mcc2.cloth,\n",
    "                mcc2.wheel)"
   ]
  },
  {
   "cell_type": "code",
   "execution_count": 32,
   "id": "556a6970",
   "metadata": {},
   "outputs": [],
   "source": [
    "@typecheck\n",
    "def mario_color_changing2(mcc2:MarioColorChanging2)->Image:\n",
    "    \"\"\"\n",
    "    enter colors to change the color of cap, sleeve, car, cloth and wheel.\n",
    "    \"\"\"\n",
    "    #return square(10, \"solid\", \"black\")\n",
    "    #return ...(mcc2)\n",
    "    \n",
    "    cap_color = cap_color_changing(language_changing_cap_color(mcc2.cap))\n",
    "    sleeve_color = sleeve_color_changing(language_changing_cap_color(mcc2.sleeve))\n",
    "    car_color = car_color_changing(language_changing_cap_color(mcc2.car))\n",
    "    cloth_color = cloth_color_changing(language_changing_cap_color(mcc2.cloth))\n",
    "    wheel_color = wheel_color_changing(language_changing_cap_color(mcc2.wheel))\n",
    "    \n",
    "    s1 = square(10, \"solid\", \"black\")\n",
    "\n",
    "    #cap\n",
    "    s2 = square(10, \"solid\", cap_color)\n",
    "\n",
    "    #\n",
    "    s3 = square(10, \"solid\", \"white\")\n",
    "\n",
    "    #face\n",
    "    s4 = square(10, \"solid\", \"blanchedalmond\")\n",
    "\n",
    "    #sleeve\n",
    "    s5 = square(10, \"solid\", sleeve_color)\n",
    "\n",
    "    #car\n",
    "    s6 = square(10, \"solid\", car_color)\n",
    "\n",
    "    #cloth\n",
    "    s7 = square(10, \"solid\", cloth_color)\n",
    "\n",
    "    #wheel\n",
    "    s8 = square(10, \"solid\", wheel_color)\n",
    "    s9 = square(10, \"solid\", \"peru\")\n",
    "\n",
    "    mario = above(beside(s3,s3,s3,s3,s3,s3,s3,s3,s3,s3,s3,s1,s1,s1,s1,s1,s3,s3,s3,s3,s3,s3,s3,s3,s3,s3,s3,s3),\n",
    "                  beside(s3,s3,s3,s3,s3,s3,s3,s3,s3,s1,s1,s1,s2,s2,s2,s2,s1,s3,s3,s3,s3,s3,s3,s3,s3,s3,s3,s3),\n",
    "                  beside(s3,s3,s3,s3,s3,s3,s3,s1,s1,s2,s2,s2,s2,s2,s2,s2,s1,s3,s3,s3,s3,s3,s3,s3,s3,s3,s3,s3),\n",
    "                  beside(s3,s3,s3,s3,s3,s3,s1,s2,s2,s2,s2,s2,s2,s2,s2,s3,s1,s3,s3,s3,s3,s3,s3,s3,s3,s3,s3,s3),\n",
    "                  beside(s3,s3,s3,s3,s3,s1,s2,s2,s2,s2,s2,s2,s2,s2,s3,s3,s1,s3,s3,s3,s3,s3,s3,s3,s3,s3,s3,s3),\n",
    "                  beside(s3,s3,s3,s3,s1,s2,s2,s2,s2,s2,s2,s1,s1,s1,s1,s1,s1,s1,s3,s3,s3,s3,s3,s3,s3,s3,s3,s3),\n",
    "                  beside(s3,s3,s3,s1,s1,s2,s2,s2,s2,s1,s1,s2,s2,s2,s2,s2,s2,s2,s1,s3,s3,s3,s3,s3,s3,s3,s3,s3),\n",
    "                  beside(s3,s3,s1,s2,s2,s2,s2,s1,s1,s2,s2,s1,s1,s1,s1,s1,s1,s2,s1,s1,s3,s3,s3,s3,s3,s3,s3,s3),\n",
    "                  beside(s3,s3,s1,s2,s2,s2,s1,s4,s4,s1,s1,s1,s4,s3,s3,s4,s1,s1,s3,s3,s3,s3,s3,s3,s3,s3,s3,s3),\n",
    "                  beside(s3,s3,s1,s2,s2,s1,s4,s4,s4,s4,s1,s4,s4,s3,s1,s4,s1,s3,s3,s3,s3,s3,s3,s3,s3,s3,s3,s3),\n",
    "                  beside(s3,s3,s3,s1,s1,s1,s4,s4,s4,s4,s1,s4,s4,s3,s1,s4,s4,s1,s1,s3,s3,s3,s3,s3,s3,s3,s3,s3),\n",
    "                  beside(s3,s3,s3,s3,s1,s1,s1,s4,s4,s4,s1,s4,s4,s1,s1,s4,s4,s4,s4,s1,s3,s3,s3,s3,s3,s3,s3,s3),\n",
    "                  beside(s3,s3,s3,s3,s1,s1,s1,s1,s1,s4,s4,s4,s4,s1,s1,s1,s4,s4,s4,s1,s3,s3,s3,s3,s3,s3,s3,s3),\n",
    "                  beside(s3,s3,s3,s3,s3,s1,s1,s1,s4,s4,s4,s4,s4,s4,s1,s1,s1,s1,s1,s3,s3,s3,s3,s3,s3,s3,s3,s3),\n",
    "                  beside(s3,s3,s3,s3,s3,s3,s3,s1,s1,s1,s4,s4,s4,s4,s4,s1,s1,s1,s3,s3,s3,s3,s3,s3,s3,s3,s3,s3),\n",
    "                  beside(s3,s3,s3,s3,s3,s3,s1,s1,s5,s5,s1,s1,s4,s4,s4,s4,s1,s1,s3,s3,s3,s3,s3,s3,s3,s3,s3,s3),\n",
    "                  beside(s3,s3,s3,s3,s3,s1,s7,s5,s5,s5,s5,s5,s1,s1,s1,s1,s3,s3,s1,s1,s3,s3,s3,s3,s3,s3,s3,s3),\n",
    "                  beside(s3,s3,s3,s3,s1,s1,s7,s5,s5,s5,s5,s5,s5,s5,s5,s9,s3,s3,s3,s1,s1,s3,s3,s3,s3,s3,s3,s3),\n",
    "                  beside(s3,s3,s3,s1,s6,s1,s7,s5,s5,s5,s5,s5,s5,s5,s5,s1,s9,s9,s9,s1,s1,s1,s3,s3,s3,s3,s3,s3),\n",
    "                  beside(s3,s3,s3,s1,s6,s1,s7,s5,s5,s5,s5,s5,s5,s5,s5,s5,s1,s1,s1,s1,s1,s1,s9,s9,s9,s9,s3,s3),\n",
    "                  beside(s3,s3,s3,s1,s6,s1,s7,s7,s1,s1,s5,s5,s5,s5,s1,s1,s1,s7,s7,s7,s1,s6,s6,s1,s1,s1,s3,s3),\n",
    "                  beside(s3,s3,s3,s1,s6,s1,s7,s7,s7,s7,s1,s1,s1,s1,s7,s7,s7,s7,s7,s7,s6,s6,s6,s1,s1,s1,s1,s3),\n",
    "                  beside(s3,s9,s9,s1,s6,s1,s7,s7,s7,s7,s7,s7,s7,s7,s7,s7,s7,s7,s7,s7,s6,s6,s6,s1,s1,s1,s1,s3),\n",
    "                  beside(s3,s1,s1,s1,s1,s1,s7,s7,s7,s7,s7,s7,s7,s7,s7,s7,s7,s7,s7,s7,s6,s6,s6,s1,s1,s1,s1,s3),\n",
    "                  beside(s3,s1,s1,s1,s1,s1,s1,s7,s7,s7,s7,s7,s7,s7,s7,s7,s7,s7,s7,s6,s6,s1,s1,s8,s8,s1,s1,s3),\n",
    "                  beside(s1,s1,s1,s8,s8,s1,s1,s1,s1,s7,s7,s7,s7,s7,s7,s7,s7,s7,s6,s6,s6,s1,s8,s1,s1,s8,s1,s1),\n",
    "                  beside(s1,s1,s8,s1,s1,s8,s1,s1,s3,s1,s1,s7,s7,s7,s7,s1,s1,s1,s6,s6,s1,s1,s1,s8,s8,s1,s1,s1),\n",
    "                  beside(s1,s1,s8,s3,s1,s8,s1,s1,s1,s3,s3,s1,s1,s1,s1,s3,s3,s3,s1,s1,s1,s1,s8,s1,s1,s8,s1,s1),\n",
    "                  beside(s1,s1,s1,s3,s3,s8,s1,s1,s1,s1,s1,s3,s3,s3,s3,s3,s3,s3,s3,s1,s1,s1,s8,s3,s1,s8,s1,s1),\n",
    "                  beside(s3,s1,s1,s8,s8,s1,s1,s1,s1,s1,s1,s1,s1,s1,s1,s1,s1,s1,s1,s1,s3,s1,s1,s8,s8,s1,s1,s3),\n",
    "                  beside(s3,s3,s1,s1,s1,s1,s3,s3,s3,s3,s3,s3,s3,s3,s3,s3,s3,s3,s3,s3,s3,s3,s1,s1,s1,s1,s3,s3))\n",
    "    return mario"
   ]
  },
  {
   "cell_type": "code",
   "execution_count": 33,
   "id": "2522109c",
   "metadata": {},
   "outputs": [
    {
     "data": {
      "text/plain": [
       "<cs103.image.image.Above object at 0x000001380A335370>"
      ]
     },
     "execution_count": 33,
     "metadata": {},
     "output_type": "execute_result"
    },
    {
     "data": {
      "image/png": "[encoded data removed]",
      "text/plain": [
       "<Figure size 210x232.5 with 1 Axes>"
      ]
     },
     "metadata": {
      "needs_background": "light"
     },
     "output_type": "display_data"
    }
   ],
   "source": [
    "mario_color_changing2(m21)"
   ]
  },
  {
   "cell_type": "code",
   "execution_count": 34,
   "id": "39befc50",
   "metadata": {},
   "outputs": [
    {
     "data": {
      "text/plain": [
       "<cs103.image.image.Above object at 0x000001380A631D60>"
      ]
     },
     "execution_count": 34,
     "metadata": {},
     "output_type": "execute_result"
    },
    {
     "data": {
      "image/png": "[encoded data removed]",
      "text/plain": [
       "<Figure size 210x232.5 with 1 Axes>"
      ]
     },
     "metadata": {
      "needs_background": "light"
     },
     "output_type": "display_data"
    }
   ],
   "source": [
    "mario_color_changing2(m23)"
   ]
  },
  {
   "cell_type": "code",
   "execution_count": 35,
   "id": "0bcb73aa",
   "metadata": {},
   "outputs": [
    {
     "data": {
      "text/plain": [
       "<cs103.image.image.Above object at 0x000001380A32B430>"
      ]
     },
     "execution_count": 35,
     "metadata": {},
     "output_type": "execute_result"
    },
    {
     "data": {
      "image/png": "[encoded data removed]",
      "text/plain": [
       "<Figure size 210x232.5 with 1 Axes>"
      ]
     },
     "metadata": {
      "needs_background": "light"
     },
     "output_type": "display_data"
    }
   ],
   "source": [
    "mario_color_changing2(m22)"
   ]
  },
  {
   "cell_type": "code",
   "execution_count": 36,
   "id": "303cc548",
   "metadata": {},
   "outputs": [],
   "source": [
    "@typecheck\n",
    "def mario_color_changing2(mcc2:MarioColorChanging2)->Image:\n",
    "    \"\"\"\n",
    "    enter colors to change the color of cap, sleeve, car, cloth and wheel.\n",
    "    \"\"\"\n",
    "    #return square(10, \"solid\", \"black\")\n",
    "    #return ...(mcc2)\n",
    "    \n",
    "    languagechange_cap = language_changing_cap_color(mcc2.cap)\n",
    "    languagechange_sleeve = language_changing_cap_color(mcc2.sleeve)\n",
    "    languagechange_car = language_changing_cap_color(mcc2.car)\n",
    "    languagechange_cloth = language_changing_cap_color(mcc2.cloth)\n",
    "    languagechange_wheel = language_changing_cap_color(mcc2.wheel)\n",
    "    \n",
    "    cap_color = cap_color_changing(languagechange_cap)\n",
    "    sleeve_color = sleeve_color_changing(languagechange_sleeve)\n",
    "    car_color = car_color_changing(languagechange_car)\n",
    "    cloth_color = cloth_color_changing(languagechange_cloth)\n",
    "    wheel_color = wheel_color_changing(languagechange_wheel)\n",
    "    \n",
    "    s1 = square(10, \"solid\", \"black\")\n",
    "\n",
    "    #cap\n",
    "    s2 = square(10, \"solid\", cap_color)\n",
    "\n",
    "    #\n",
    "    s3 = square(10, \"solid\", \"white\")\n",
    "\n",
    "    #face\n",
    "    s4 = square(10, \"solid\", \"blanchedalmond\")\n",
    "\n",
    "    #sleeve\n",
    "    s5 = square(10, \"solid\", sleeve_color)\n",
    "\n",
    "    #car\n",
    "    s6 = square(10, \"solid\", car_color)\n",
    "\n",
    "    #cloth\n",
    "    s7 = square(10, \"solid\", cloth_color)\n",
    "\n",
    "    #wheel\n",
    "    s8 = square(10, \"solid\", wheel_color)\n",
    "    s9 = square(10, \"solid\", \"peru\")\n",
    "\n",
    "    mario = above(beside(s3,s3,s3,s3,s3,s3,s3,s3,s3,s3,s3,s1,s1,s1,s1,s1,s3,s3,s3,s3,s3,s3,s3,s3,s3,s3,s3,s3),\n",
    "                  beside(s3,s3,s3,s3,s3,s3,s3,s3,s3,s1,s1,s1,s2,s2,s2,s2,s1,s3,s3,s3,s3,s3,s3,s3,s3,s3,s3,s3),\n",
    "                  beside(s3,s3,s3,s3,s3,s3,s3,s1,s1,s2,s2,s2,s2,s2,s2,s2,s1,s3,s3,s3,s3,s3,s3,s3,s3,s3,s3,s3),\n",
    "                  beside(s3,s3,s3,s3,s3,s3,s1,s2,s2,s2,s2,s2,s2,s2,s2,s3,s1,s3,s3,s3,s3,s3,s3,s3,s3,s3,s3,s3),\n",
    "                  beside(s3,s3,s3,s3,s3,s1,s2,s2,s2,s2,s2,s2,s2,s2,s3,s3,s1,s3,s3,s3,s3,s3,s3,s3,s3,s3,s3,s3),\n",
    "                  beside(s3,s3,s3,s3,s1,s2,s2,s2,s2,s2,s2,s1,s1,s1,s1,s1,s1,s1,s3,s3,s3,s3,s3,s3,s3,s3,s3,s3),\n",
    "                  beside(s3,s3,s3,s1,s1,s2,s2,s2,s2,s1,s1,s2,s2,s2,s2,s2,s2,s2,s1,s3,s3,s3,s3,s3,s3,s3,s3,s3),\n",
    "                  beside(s3,s3,s1,s2,s2,s2,s2,s1,s1,s2,s2,s1,s1,s1,s1,s1,s1,s2,s1,s1,s3,s3,s3,s3,s3,s3,s3,s3),\n",
    "                  beside(s3,s3,s1,s2,s2,s2,s1,s4,s4,s1,s1,s1,s4,s3,s3,s4,s1,s1,s3,s3,s3,s3,s3,s3,s3,s3,s3,s3),\n",
    "                  beside(s3,s3,s1,s2,s2,s1,s4,s4,s4,s4,s1,s4,s4,s3,s1,s4,s1,s3,s3,s3,s3,s3,s3,s3,s3,s3,s3,s3),\n",
    "                  beside(s3,s3,s3,s1,s1,s1,s4,s4,s4,s4,s1,s4,s4,s3,s1,s4,s4,s1,s1,s3,s3,s3,s3,s3,s3,s3,s3,s3),\n",
    "                  beside(s3,s3,s3,s3,s1,s1,s1,s4,s4,s4,s1,s4,s4,s1,s1,s4,s4,s4,s4,s1,s3,s3,s3,s3,s3,s3,s3,s3),\n",
    "                  beside(s3,s3,s3,s3,s1,s1,s1,s1,s1,s4,s4,s4,s4,s1,s1,s1,s4,s4,s4,s1,s3,s3,s3,s3,s3,s3,s3,s3),\n",
    "                  beside(s3,s3,s3,s3,s3,s1,s1,s1,s4,s4,s4,s4,s4,s4,s1,s1,s1,s1,s1,s3,s3,s3,s3,s3,s3,s3,s3,s3),\n",
    "                  beside(s3,s3,s3,s3,s3,s3,s3,s1,s1,s1,s4,s4,s4,s4,s4,s1,s1,s1,s3,s3,s3,s3,s3,s3,s3,s3,s3,s3),\n",
    "                  beside(s3,s3,s3,s3,s3,s3,s1,s1,s5,s5,s1,s1,s4,s4,s4,s4,s1,s1,s3,s3,s3,s3,s3,s3,s3,s3,s3,s3),\n",
    "                  beside(s3,s3,s3,s3,s3,s1,s7,s5,s5,s5,s5,s5,s1,s1,s1,s1,s3,s3,s1,s1,s3,s3,s3,s3,s3,s3,s3,s3),\n",
    "                  beside(s3,s3,s3,s3,s1,s1,s7,s5,s5,s5,s5,s5,s5,s5,s5,s9,s3,s3,s3,s1,s1,s3,s3,s3,s3,s3,s3,s3),\n",
    "                  beside(s3,s3,s3,s1,s6,s1,s7,s5,s5,s5,s5,s5,s5,s5,s5,s1,s9,s9,s9,s1,s1,s1,s3,s3,s3,s3,s3,s3),\n",
    "                  beside(s3,s3,s3,s1,s6,s1,s7,s5,s5,s5,s5,s5,s5,s5,s5,s5,s1,s1,s1,s1,s1,s1,s9,s9,s9,s9,s3,s3),\n",
    "                  beside(s3,s3,s3,s1,s6,s1,s7,s7,s1,s1,s5,s5,s5,s5,s1,s1,s1,s7,s7,s7,s1,s6,s6,s1,s1,s1,s3,s3),\n",
    "                  beside(s3,s3,s3,s1,s6,s1,s7,s7,s7,s7,s1,s1,s1,s1,s7,s7,s7,s7,s7,s7,s6,s6,s6,s1,s1,s1,s1,s3),\n",
    "                  beside(s3,s9,s9,s1,s6,s1,s7,s7,s7,s7,s7,s7,s7,s7,s7,s7,s7,s7,s7,s7,s6,s6,s6,s1,s1,s1,s1,s3),\n",
    "                  beside(s3,s1,s1,s1,s1,s1,s7,s7,s7,s7,s7,s7,s7,s7,s7,s7,s7,s7,s7,s7,s6,s6,s6,s1,s1,s1,s1,s3),\n",
    "                  beside(s3,s1,s1,s1,s1,s1,s1,s7,s7,s7,s7,s7,s7,s7,s7,s7,s7,s7,s7,s6,s6,s1,s1,s8,s8,s1,s1,s3),\n",
    "                  beside(s1,s1,s1,s8,s8,s1,s1,s1,s1,s7,s7,s7,s7,s7,s7,s7,s7,s7,s6,s6,s6,s1,s8,s1,s1,s8,s1,s1),\n",
    "                  beside(s1,s1,s8,s1,s1,s8,s1,s1,s3,s1,s1,s7,s7,s7,s7,s1,s1,s1,s6,s6,s1,s1,s1,s8,s8,s1,s1,s1),\n",
    "                  beside(s1,s1,s8,s3,s1,s8,s1,s1,s1,s3,s3,s1,s1,s1,s1,s3,s3,s3,s1,s1,s1,s1,s8,s1,s1,s8,s1,s1),\n",
    "                  beside(s1,s1,s1,s3,s3,s8,s1,s1,s1,s1,s1,s3,s3,s3,s3,s3,s3,s3,s3,s1,s1,s1,s8,s3,s1,s8,s1,s1),\n",
    "                  beside(s3,s1,s1,s8,s8,s1,s1,s1,s1,s1,s1,s1,s1,s1,s1,s1,s1,s1,s1,s1,s3,s1,s1,s8,s8,s1,s1,s3),\n",
    "                  beside(s3,s3,s1,s1,s1,s1,s3,s3,s3,s3,s3,s3,s3,s3,s3,s3,s3,s3,s3,s3,s3,s3,s1,s1,s1,s1,s3,s3))\n",
    "    return mario"
   ]
  }
 ],
 "metadata": {
  "kernelspec": {
   "display_name": "Python 3",
   "language": "python",
   "name": "python3"
  },
  "language_info": {
   "codemirror_mode": {
    "name": "ipython",
    "version": 3
   },
   "file_extension": ".py",
   "mimetype": "text/x-python",
   "name": "python",
   "nbconvert_exporter": "python",
   "pygments_lexer": "ipython3",
   "version": "3.8.8"
  }
 },
 "nbformat": 4,
 "nbformat_minor": 5
}
